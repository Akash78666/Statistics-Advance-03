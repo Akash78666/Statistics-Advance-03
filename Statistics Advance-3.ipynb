{
 "cells": [
  {
   "cell_type": "markdown",
   "id": "e385f970-bb4a-4a8c-a09c-8d70bc97a37b",
   "metadata": {},
   "source": [
    "Q1: What is Estimation Statistics? Explain point estimate and interval estimate."
   ]
  },
  {
   "cell_type": "markdown",
   "id": "21067469-1b64-46ea-b714-d4d4275086c5",
   "metadata": {},
   "source": [
    "Ans:-Estimation statistics is a branch of statistics that deals with estimating population parameters based on sample data. The goal of estimation is to use sample data to make inferences about a population parameter that is unknown or uncertain.\n",
    "\n",
    "There are two types of estimates in statistics: point estimates and interval estimates.\n",
    "\n",
    "A point estimate is a single numerical value that is used to estimate an unknown population parameter. For example, if we want to estimate the population mean, we can use the sample mean as a point estimate of the population mean. Point estimates are useful when we need a single estimate of a parameter, but they do not provide any information about the precision or accuracy of the estimate.\n",
    "\n",
    "Interval estimates, on the other hand, provide a range of values within which the true population parameter is likely to fall. An interval estimate consists of two numbers, an upper limit and a lower limit, that define the range of possible values for the population parameter. The most common type of interval estimate is a confidence interval, which provides a range of values that is likely to contain the true population parameter with a certain degree of confidence. For example, a 95% confidence interval for the population mean would provide a range of values within which the true population mean is likely to fall with 95% confidence.\n",
    "\n",
    "In summary, point estimates provide a single estimate of an unknown population parameter, while interval estimates provide a range of values within which the true population parameter is likely to fall. Interval estimates are generally preferred over point estimates because they provide more information about the precision and accuracy of the estimate."
   ]
  },
  {
   "cell_type": "markdown",
   "id": "aeaecc07-ecd5-4275-83c9-b1adf98b1bf8",
   "metadata": {},
   "source": [
    "Q2. Write a Python function to estimate the population mean using a sample mean and standard \n",
    "deviation."
   ]
  },
  {
   "cell_type": "code",
   "execution_count": 3,
   "id": "92633cb5-5f2b-4e03-b2a0-646ee5aad6fc",
   "metadata": {},
   "outputs": [],
   "source": [
    "#Ans:-\n",
    "def estimate_pop_mean(sample_mean, sample_std, sample_size):\n",
    "    import math\n",
    "    \n",
    "    # Calculate the standard error of the mean\n",
    "    std_error = sample_std / math.sqrt(sample_size)\n",
    "    \n",
    "    # Calculate the lower and upper bounds of the 95% confidence interval\n",
    "    lower_bound = sample_mean - (1.96 * std_error)\n",
    "    upper_bound = sample_mean + (1.96 * std_error)\n",
    "    \n",
    "    # Return the estimated population mean and the confidence interval\n",
    "    return sample_mean, (lower_bound, upper_bound)\n"
   ]
  },
  {
   "cell_type": "markdown",
   "id": "4c13f278-4fa5-4935-b90e-1b0d69efbf1f",
   "metadata": {},
   "source": [
    "3: What is Hypothesis testing? Why is it used? State the importance of Hypothesis testing"
   ]
  },
  {
   "cell_type": "markdown",
   "id": "d5fe42e8-3f2f-4a8c-9b86-554f35fb139a",
   "metadata": {},
   "source": [
    "Ans:-Hypothesis testing is a statistical method used to determine whether an assumption about a population parameter is likely to be true or not based on sample data. The process involves formulating a null hypothesis (H0) and an alternative hypothesis (Ha), selecting an appropriate test statistic and significance level, and then using the sample data to either reject or fail to reject the null hypothesis.\n",
    "\n",
    "The null hypothesis (H0) is the assumption that the population parameter is equal to a specific value or falls within a specific range of values. The alternative hypothesis (Ha) is the assertion that the population parameter is different from the value specified in the null hypothesis. The goal of hypothesis testing is to determine whether the sample data provide sufficient evidence to reject the null hypothesis in favor of the alternative hypothesis.\n",
    "\n",
    "Hypothesis testing is used to make decisions and draw conclusions about population parameters based on sample data. It is used in many fields such as medicine, engineering, psychology, economics, and more. Some common applications of hypothesis testing include evaluating the effectiveness of new treatments or interventions, testing the quality of manufacturing processes, and determining whether there is a significant difference between two or more groups.\n",
    "\n",
    "The importance of hypothesis testing lies in its ability to provide a systematic and objective method for making decisions based on sample data. It helps to ensure that conclusions drawn from sample data are reliable and accurate. Hypothesis testing also provides a framework for evaluating the strength of evidence in support of a hypothesis and helps to identify areas for further research.\n",
    "\n",
    "Overall, hypothesis testing is a fundamental tool in statistics that enables researchers and practitioners to make informed decisions and draw reliable conclusions based on sample data."
   ]
  },
  {
   "cell_type": "markdown",
   "id": "1e679f7a-9283-4b75-87df-b40341a895ec",
   "metadata": {},
   "source": [
    "Q4. Create a hypothesis that states whether the average weight of male college students is greater than \n",
    "the average weight of female college students."
   ]
  },
  {
   "cell_type": "markdown",
   "id": "9e0baea2-fe70-4a3c-be6f-468c5744a60c",
   "metadata": {},
   "source": [
    "Ans:-Here's an example of a hypothesis that compares the average weight of male and female college students:\n",
    "\n",
    "Null hypothesis (H0): The average weight of male college students is equal to or less than the average weight of female college students.\n",
    "\n",
    "Alternative hypothesis (Ha): The average weight of male college students is greater than the average weight of female college students.\n",
    "\n",
    "Symbolically, we can represent these hypotheses as:\n",
    "\n",
    "H0: µ_male <= µ_female\n",
    "Ha: µ_male > µ_female\n",
    "\n",
    "where µ_male is the population mean weight of male college students, and µ_female is the population mean weight of female college students.\n",
    "\n",
    "This hypothesis could be tested by collecting a random sample of male and female college students, measuring their weights, and then using hypothesis testing to determine whether the sample data provide sufficient evidence to reject the null hypothesis in favor of the alternative hypothesis. The appropriate statistical test for this hypothesis would depend on the distribution of the population weights, the sample size, and other factors"
   ]
  },
  {
   "cell_type": "markdown",
   "id": "0ca6a5ac-cb6e-4ca9-90e3-5e5d60b053f2",
   "metadata": {},
   "source": [
    "Q5. Write a Python script to conduct a hypothesis test on the difference between two population means, \n",
    "given a sample from each population."
   ]
  },
  {
   "cell_type": "code",
   "execution_count": 4,
   "id": "d398cc62-12ba-4ab8-a398-d51dc56a5c18",
   "metadata": {},
   "outputs": [
    {
     "name": "stdout",
     "output_type": "stream",
     "text": [
      "Sample 1 mean: 10.20\n",
      "Sample 2 mean: 12.09\n",
      "t-statistic: -6.86\n",
      "p-value: 0.0000\n",
      "The difference between the means is statistically significant.\n"
     ]
    }
   ],
   "source": [
    "import numpy as np\n",
    "from scipy.stats import ttest_ind\n",
    "\n",
    "# Generate two independent samples\n",
    "sample1 = np.random.normal(loc=10, scale=2, size=100)\n",
    "sample2 = np.random.normal(loc=12, scale=2, size=100)\n",
    "\n",
    "# Conduct a two-sample t-test with equal variances assumed\n",
    "t_stat, p_val = ttest_ind(sample1, sample2, equal_var=True)\n",
    "\n",
    "# Print the results\n",
    "print(\"Sample 1 mean: {:.2f}\".format(np.mean(sample1)))\n",
    "print(\"Sample 2 mean: {:.2f}\".format(np.mean(sample2)))\n",
    "print(\"t-statistic: {:.2f}\".format(t_stat))\n",
    "print(\"p-value: {:.4f}\".format(p_val))\n",
    "if p_val < 0.05:\n",
    "    print(\"The difference between the means is statistically significant.\")\n",
    "else:\n",
    "    print(\"There is not enough evidence to reject the null hypothesis.\")\n"
   ]
  },
  {
   "cell_type": "code",
   "execution_count": null,
   "id": "ccf239fc-9b9d-4426-89c6-284750a13dac",
   "metadata": {},
   "outputs": [],
   "source": []
  },
  {
   "cell_type": "markdown",
   "id": "9a0dd6cf-a5ad-4dd6-a377-d438c7c982c2",
   "metadata": {},
   "source": [
    "Q6: What is a null and alternative hypothesis? Give some examples"
   ]
  },
  {
   "cell_type": "markdown",
   "id": "c3cde257-22e8-4358-8baf-c12f7d0d8252",
   "metadata": {},
   "source": [
    "Ans:-In statistics, a null hypothesis (H0) is a statement about a population parameter that assumes there is no difference, no effect, or no relationship between two or more variables. An alternative hypothesis (Ha) is a statement that contradicts the null hypothesis and asserts that there is a difference, effect, or relationship between two or more variables.\n",
    "\n",
    "Here are some examples of null and alternative hypotheses:\n",
    "\n",
    "Example 1:\n",
    "Null hypothesis: The mean height of men and women is the same.\n",
    "Alternative hypothesis: The mean height of men and women is different.\n",
    "\n",
    "Example 2:\n",
    "Null hypothesis: The new drug is not more effective than the placebo.\n",
    "Alternative hypothesis: The new drug is more effective than the placebo.\n",
    "\n",
    "Example 3:\n",
    "Null hypothesis: There is no relationship between smoking and lung cancer.\n",
    "Alternative hypothesis: Smoking is associated with an increased risk of lung cancer.\n",
    "\n",
    "Example 4:\n",
    "Null hypothesis: The mean response time for two different interfaces is the same.\n",
    "Alternative hypothesis: The mean response time for one interface is faster than the other.\n",
    "\n",
    "Example 5:\n",
    "Null hypothesis: There is no difference in sales between two different marketing campaigns.\n",
    "Alternative hypothesis: One marketing campaign leads to higher sales than the other.\n",
    "\n",
    "These are just a few examples of null and alternative hypotheses. In practice, researchers formulate hypotheses based on their research questions and hypotheses may take different forms depending on the research design, variables of interest, and research objectiv"
   ]
  },
  {
   "cell_type": "markdown",
   "id": "d496f861-384f-42ff-a20e-1a76b2b96732",
   "metadata": {},
   "source": [
    "Q7: Write down the steps involved in hypothesis testing."
   ]
  },
  {
   "cell_type": "markdown",
   "id": "17e189f4-2d94-4757-86f3-0f88b5f855c8",
   "metadata": {},
   "source": [
    "Ans:-The following are the general steps involved in hypothesis testing:\n",
    "\n",
    "State the null hypothesis (H0) and alternative hypothesis (Ha): Begin by clearly stating the null hypothesis, which represents the status quo or the assumption being tested, and the alternative hypothesis, which is the statement that contradicts the null hypothesis.\n",
    "\n",
    "Determine the significance level (alpha): Decide on the level of significance (alpha) that will be used to test the null hypothesis. Common values for alpha are 0.05 and 0.01.\n",
    "\n",
    "Choose the appropriate test statistic: Choose a statistical test that is appropriate for the research design and the type of data being analyzed. The choice of test statistic will depend on factors such as the sample size, the type of data, and the research question.\n",
    "\n",
    "Determine the critical value or p-value: Depending on the chosen test statistic and alpha value, determine the critical value or p-value that will be used to make a decision about the null hypothesis. The critical value is a value that the test statistic must exceed in order to reject the null hypothesis, while the p-value is the probability of obtaining a test statistic as extreme or more extreme than the observed value, assuming the null hypothesis is true.\n",
    "\n",
    "Collect the data and calculate the test statistic: Collect the data and calculate the test statistic using the chosen formula or software. The test statistic is a measure of how much the sample data deviates from the null hypothesis.\n",
    "\n",
    "Compare the test statistic to the critical value or p-value: Compare the test statistic to the critical value or p-value to make a decision about the null hypothesis. If the test statistic is greater than the critical value or the p-value is less than the alpha level, reject the null hypothesis in favor of the alternative hypothesis. Otherwise, fail to reject the null hypothesis.\n",
    "\n",
    "Interpret the results: Interpret the results of the hypothesis test in the context of the research question and the null and alternative hypotheses. Report the findings, including the test statistic, critical value or p-value, and conclusion about the null hypothesis.\n",
    "\n",
    "Note that these steps are general guidelines and the specific procedures may vary depending on the research design, type of data, and statistical test used."
   ]
  },
  {
   "cell_type": "code",
   "execution_count": null,
   "id": "56dca041-fd6a-4ad4-a280-2b561aa09c09",
   "metadata": {},
   "outputs": [],
   "source": [
    "Q8. Define p-value and explain its significance in hypothesis testing."
   ]
  },
  {
   "cell_type": "markdown",
   "id": "26b8d8ce-eadf-436a-b0a2-e1eb71e24109",
   "metadata": {},
   "source": [
    "Ans:-In hypothesis testing, the p-value is the probability of obtaining a test statistic as extreme or more extreme than the observed value, assuming the null hypothesis is true. It is a measure of the strength of evidence against the null hypothesis and serves as the basis for deciding whether to reject or fail to reject the null hypothesis.\n",
    "\n",
    "A small p-value indicates that the observed data are unlikely to have occurred by chance alone, given the null hypothesis. Specifically, if the p-value is less than the chosen significance level (alpha), typically 0.05 or 0.01, then we reject the null hypothesis in favor of the alternative hypothesis. On the other hand, if the p-value is greater than alpha, then we fail to reject the null hypothesis.\n",
    "\n",
    "The p-value is a widely used measure of statistical significance in hypothesis testing because it provides a quantitative assessment of the strength of evidence against the null hypothesis. It allows researchers to make objective decisions based on data and helps to avoid bias and subjectivity in statistical analysis. Additionally, the p-value can help researchers to determine the sample size required for their study, as a smaller p-value requires a larger sample size to achieve statistical significance.\n",
    "\n",
    "However, it is important to note that the p-value is not without limitations and should be interpreted in the context of the research question and the design of the study. For example, a small p-value does not necessarily imply that the alternative hypothesis is true or that the effect size is large. Furthermore, the p-value does not provide information on the practical significance or importance of the effect, which should be considered in conjunction with statistical significance when making decisions based on the results of a study"
   ]
  },
  {
   "cell_type": "raw",
   "id": "bc7c8b70-3cc1-4755-9360-137191d1153e",
   "metadata": {},
   "source": [
    "Q9. Generate a Student's t-distribution plot using Python's matplotlib library, with the degrees of freedom \n",
    "parameter set to 10."
   ]
  },
  {
   "cell_type": "code",
   "execution_count": 5,
   "id": "5163dd44-b87b-4a9e-9d80-8a888233ab33",
   "metadata": {},
   "outputs": [
    {
     "data": {
      "image/png": "[encoded data removed]",
      "text/plain": [
       "<Figure size 640x480 with 1 Axes>"
      ]
     },
     "metadata": {},
     "output_type": "display_data"
    }
   ],
   "source": [
    "import numpy as np\n",
    "import matplotlib.pyplot as plt\n",
    "from scipy.stats import t\n",
    "\n",
    "# Set the degrees of freedom\n",
    "df = 10\n",
    "\n",
    "# Generate the x values\n",
    "x = np.linspace(-4, 4, 100)\n",
    "\n",
    "# Compute the y values (pdf)\n",
    "y = t.pdf(x, df)\n",
    "\n",
    "# Plot the pdf\n",
    "plt.plot(x, y, label='t-distribution')\n",
    "\n",
    "# Set the title and axis labels\n",
    "plt.title(\"Student's t-distribution with df=10\")\n",
    "plt.xlabel('x')\n",
    "plt.ylabel('Probability density')\n",
    "\n",
    "# Show the legend and the plot\n",
    "plt.legend()\n",
    "plt.show()\n"
   ]
  },
  {
   "cell_type": "code",
   "execution_count": null,
   "id": "3fe35c04-a683-42b8-a67d-ff1897c38a38",
   "metadata": {},
   "outputs": [],
   "source": [
    "Q10. Write a Python program to calculate the two-sample t-test for independent samples, given two \n",
    "random samples of equal size and a null hypothesis that the population means are equal"
   ]
  },
  {
   "cell_type": "code",
   "execution_count": 6,
   "id": "35a5cf76-d031-4a31-a5e2-6a38ed4a5938",
   "metadata": {},
   "outputs": [
    {
     "name": "stdout",
     "output_type": "stream",
     "text": [
      "Reject the null hypothesis. There is significant evidence that the population means are different.\n",
      "t-statistic:  -4.3322819742977945\n",
      "p-value:  3.572158767575652e-05\n"
     ]
    }
   ],
   "source": [
    "import numpy as np\n",
    "from scipy.stats import ttest_ind\n",
    "\n",
    "# Generate two random samples of equal size\n",
    "sample1 = np.random.normal(loc=10, scale=2, size=50)\n",
    "sample2 = np.random.normal(loc=12, scale=2, size=50)\n",
    "\n",
    "# Perform the two-sample t-test\n",
    "t_statistic, p_value = ttest_ind(sample1, sample2)\n",
    "\n",
    "# Set the significance level\n",
    "alpha = 0.05\n",
    "\n",
    "# Print the results\n",
    "if p_value < alpha:\n",
    "    print(\"Reject the null hypothesis. There is significant evidence that the population means are different.\")\n",
    "else:\n",
    "    print(\"Fail to reject the null hypothesis. There is insufficient evidence to conclude that the population means are different.\")\n",
    "print(\"t-statistic: \", t_statistic)\n",
    "print(\"p-value: \", p_value)\n"
   ]
  },
  {
   "cell_type": "code",
   "execution_count": null,
   "id": "b8a40bf1-adc4-4867-a143-42f1342a3223",
   "metadata": {},
   "outputs": [],
   "source": [
    "Q11: What is Student’s t distribution? When to use the t-Distribution."
   ]
  },
  {
   "cell_type": "markdown",
   "id": "caa5e4c3-bdfe-462f-ba21-c130719cdcb3",
   "metadata": {},
   "source": [
    "Ans:-Student's t-distribution is a probability distribution that is used in hypothesis testing when the population standard deviation is unknown and the sample size is small. It is similar to the normal distribution but has fatter tails, which allows for more variability in the sample means.\n",
    "\n",
    "The t-distribution is used when the sample size is less than 30 or the population standard deviation is unknown. In these situations, the t-distribution provides a better estimate of the population mean than the normal distribution, which assumes that the population standard deviation is known.\n",
    "\n",
    "The t-distribution is also used when we want to test a hypothesis about the population mean based on a sample mean. In this case, we use the t-distribution to calculate the probability that the sample mean came from a population with a specific mean.\n",
    "\n",
    "The t-distribution is often used in t-tests, which are used to test hypotheses about the population mean or the difference between two population means. For example, a t-test can be used to test whether the mean weight of male college students is greater than the mean weight of female college students, or whether a new medication has a different effect on blood pressure compared to a placebo."
   ]
  },
  {
   "cell_type": "code",
   "execution_count": null,
   "id": "9ff127b3-e120-4904-8d7b-c44ffa476d20",
   "metadata": {},
   "outputs": [],
   "source": [
    "Q12: What is t-statistic? State the formula for t-statistic"
   ]
  },
  {
   "cell_type": "markdown",
   "id": "19ccb0a6-0644-417f-aedd-c6e84f2dbf1b",
   "metadata": {},
   "source": [
    "Ans:-The t-statistic is a test statistic that is used in hypothesis testing when the population standard deviation is unknown and the sample size is small. It measures the difference between the sample mean and the hypothesized population mean in units of the standard error.\n",
    "\n",
    "The formula for the t-statistic is:\n",
    "\n",
    "t = (x̄ - μ) / (s / sqrt(n))\n",
    "\n",
    "where:\n",
    "\n",
    "x̄ is the sample mean\n",
    "μ is the hypothesized population mean under the null hypothesis\n",
    "s is the sample standard deviation\n",
    "n is the sample size\n",
    "The t-statistic measures the difference between the sample mean and the hypothesized population mean in standard error units. If the t-statistic is large, it suggests that the sample mean is significantly different from the hypothesized population mean, and we reject the null hypothesis. If the t-statistic is small, it suggests that the sample mean is not significantly different from the hypothesized population mean, and we fail to reject the null hypothesis. The exact cutoff for a significant t-statistic depends on the sample size, the significance level, and the degrees of freedom."
   ]
  },
  {
   "cell_type": "code",
   "execution_count": null,
   "id": "fb7e73b9-7a78-421b-9533-0fad5755eb84",
   "metadata": {},
   "outputs": [],
   "source": [
    "Q13. A coffee shop owner wants to estimate the average daily revenue for their shop. They take a random \n",
    "sample of 50 days and find the sample mean revenue to be $500 with a standard deviation of $50. \n",
    "Estimate the population mean revenue with a 95% confidence interval."
   ]
  },
  {
   "cell_type": "markdown",
   "id": "f726f984-ca99-4723-a465-2122b956290b",
   "metadata": {},
   "source": [
    "Ans:-To estimate the population mean revenue with a 95% confidence interval, we can use the t-distribution and the following formula:\n",
    "\n",
    "CI = x̄ ± t*(s / sqrt(n))\n",
    "\n",
    "where:\n",
    "\n",
    "x̄ is the sample mean revenue, which is $500\n",
    "s is the sample standard deviation, which is $50\n",
    "n is the sample size, which is 50\n",
    "t is the t-value for the 95% confidence level with 49 degrees of freedom. This can be obtained from a t-distribution table or using a statistical software. For a two-tailed test, the t-value is 2.0096.\n",
    "Substituting these values into the formula, we get:\n",
    "\n",
    "CI = 500 ± 2.0096*(50 / sqrt(50))\n",
    "CI = 500 ± 14.14\n",
    "\n",
    "Therefore, the 95% confidence interval for the population mean revenue is $485.86 to $514.14. We can be 95% confident that the true population mean revenue falls within this interval."
   ]
  },
  {
   "cell_type": "code",
   "execution_count": null,
   "id": "2f215446-831d-4e3d-9e1c-b47cd479b6a5",
   "metadata": {},
   "outputs": [],
   "source": [
    "Q14. A researcher hypothesizes that a new drug will decrease blood pressure by 10 mmHg. They conduct a \n",
    "clinical trial with 100 patients and find that the sample mean decrease in blood pressure is 8 mmHg with a \n",
    "standard deviation of 3 mmHg. Test the hypothesis with a significance level of 0.05."
   ]
  },
  {
   "cell_type": "markdown",
   "id": "e0be0dd0-ed2b-4fe7-a258-8615c9bba38d",
   "metadata": {},
   "source": [
    "Ans:-To test the hypothesis that the new drug will decrease blood pressure by 10 mmHg, we can use a one-sample t-test with the following null and alternative hypotheses:\n",
    "\n",
    "H0: µ = 10 (the new drug does not decrease blood pressure by 10 mmHg)\n",
    "Ha: µ < 10 (the new drug decreases blood pressure by less than 10 mmHg)\n",
    "\n",
    "We can use a t-test to determine if the sample mean decrease in blood pressure of 8 mmHg is significantly different from the hypothesized decrease of 10 mmHg. The test statistic can be calculated using the formula:\n",
    "\n",
    "t = (x̄ - µ) / (s / sqrt(n))\n",
    "\n",
    "where:\n",
    "\n",
    "x̄ is the sample mean decrease in blood pressure, which is 8 mmHg\n",
    "µ is the hypothesized decrease in blood pressure, which is 10 mmHg\n",
    "s is the sample standard deviation, which is 3 mmHg\n",
    "n is the sample size, which is 100\n",
    "Substituting these values into the formula, we get:\n",
    "\n",
    "t = (8 - 10) / (3 / sqrt(100))\n",
    "t = -2.82\n",
    "\n",
    "Using a significance level of 0.05 and 99 degrees of freedom (n-1), the critical t-value for a one-tailed test is -1.660. Since the calculated t-value of -2.82 is less than the critical t-value of -1.660, we can reject the null hypothesis.\n",
    "\n",
    "Therefore, we can conclude that the new drug decreases blood pressure by less than 10 mmHg, with a significance level of 0.05."
   ]
  },
  {
   "cell_type": "markdown",
   "id": "a6197209-add8-4931-ba9d-b725db063761",
   "metadata": {},
   "source": [
    "Q15. An electronics company produces a certain type of product with a mean weight of 5 pounds and a \n",
    "standard deviation of 0.5 pounds. A random sample of 25 products is taken, and the sample mean weight \n",
    "is found to be 4.8 pounds. Test the hypoth"
   ]
  },
  {
   "cell_type": "markdown",
   "id": "5a26d046-9484-4242-a472-ccadc60f6df7",
   "metadata": {},
   "source": [
    "Ans:-To test the hypothesis about the mean weight of the product, we can use a one-sample t-test with the following null and alternative hypotheses:\n",
    "\n",
    "H0: µ = 5 (the population mean weight of the product is 5 pounds)\n",
    "Ha: µ ≠ 5 (the population mean weight of the product is not 5 pounds)\n",
    "\n",
    "We can use a t-test to determine if the sample mean weight of 4.8 pounds is significantly different from the hypothesized mean weight of 5 pounds. The test statistic can be calculated using the formula:\n",
    "\n",
    "t = (x̄ - µ) / (s / sqrt(n))\n",
    "\n",
    "where:\n",
    "\n",
    "x̄ is the sample mean weight, which is 4.8 pounds\n",
    "µ is the hypothesized mean weight, which is 5 pounds\n",
    "s is the sample standard deviation, which is 0.5 pounds\n",
    "n is the sample size, which is 25\n",
    "Substituting these values into the formula, we get:\n",
    "\n",
    "t = (4.8 - 5) / (0.5 / sqrt(25))\n",
    "t = -2\n",
    "\n",
    "Using a significance level of 0.05 and 24 degrees of freedom (n-1), the critical t-value for a two-tailed test is ±2.064. Since the calculated t-value of -2 is less than the critical t-value of -2.064, we can reject the null hypothesis.\n",
    "\n",
    "Therefore, we can conclude that the population mean weight of the product is not 5 pounds, with a significance level of 0.05."
   ]
  },
  {
   "cell_type": "code",
   "execution_count": null,
   "id": "c8689299-1e24-4437-9224-82969bc8f6d5",
   "metadata": {},
   "outputs": [],
   "source": [
    "Q16. Two groups of students are given different study materials to prepare for a test. The first group (n1 = \n",
    "30) has a mean score of 80 with a standard deviation of 10, and the second group (n2 = 40) has a mean \n",
    "score of 75 with a standard deviation of 8. Test the hypothesis that the population means for the two \n",
    "groups are equal with a significance level of 0.01"
   ]
  },
  {
   "cell_type": "markdown",
   "id": "a41c10af-1569-4169-a47b-3d7e1de920f7",
   "metadata": {},
   "source": [
    "Ans:-To test the hypothesis that the population means for the two groups are equal, we can use a two-sample t-test with equal variances and the following null and alternative hypotheses:\n",
    "\n",
    "H0: µ1 = µ2 (the population means for the two groups are equal)\n",
    "Ha: µ1 ≠ µ2 (the population means for the two groups are not equal)\n",
    "\n",
    "We can use the formula for the two-sample t-test with equal variances:\n",
    "\n",
    "t = (x̄1 - x̄2) / (s_p * sqrt(1/n1 + 1/n2))\n",
    "\n",
    "where:\n",
    "\n",
    "x̄1 and x̄2 are the sample means for the first and second groups, which are 80 and 75, respectively\n",
    "s_p is the pooled standard deviation, which is calculated as:\n",
    "s_p = sqrt(((n1-1)*s1^2 + (n2-1)*s2^2) / (n1 + n2 - 2))\n",
    "\n",
    "where s1 and s2 are the sample standard deviations for the first and second groups, which are 10 and 8, respectively\n",
    "\n",
    "n1 and n2 are the sample sizes for the first and second groups, which are 30 and 40, respectively\n",
    "Substituting the values, we get:\n",
    "\n",
    "s_p = sqrt(((30-1)*10^2 + (40-1)*8^2) / (30 + 40 - 2)) = 9.135\n",
    "\n",
    "t = (80 - 75) / (9.135 * sqrt(1/30 + 1/40)) = 2.30\n",
    "\n",
    "Using a significance level of 0.01 and 68 degrees of freedom, the critical t-value for a two-tailed test is ±2.607. Since the calculated t-value of 2.30 is less than the critical t-value of 2.607, we fail to reject the null hypothesis.\n",
    "\n",
    "Therefore, we can conclude that there is not enough evidence to suggest that the population means for the two groups are different, with a significance level of 0.01."
   ]
  },
  {
   "cell_type": "code",
   "execution_count": null,
   "id": "5f992210-fa29-46cf-868e-60bccbe2be93",
   "metadata": {},
   "outputs": [],
   "source": [
    "Q17. A marketing company wants to estimate the average number of ads watched by viewers during a TV \n",
    "program. They take a random sample of 50 viewers and find that the sample mean is 4 with a standard \n",
    "deviation of 1.5. Estimate the population mean with a 99% confidence interval."
   ]
  },
  {
   "cell_type": "code",
   "execution_count": null,
   "id": "318c682c-00af-498b-8d62-4a5122303a3a",
   "metadata": {},
   "outputs": [],
   "source": [
    "Ans:-To estimate the population mean with a 99% confidence interval, we can use the following formula:\n",
    "\n",
    "makefile\n",
    "Copy code\n",
    "CI = X̄ ± z*(σ/√n)\n",
    "where X̄ is the sample mean, σ is the sample standard deviation, n is the sample size, z is the z-score corresponding to the desired confidence level, and CI is the confidence interval.\n",
    "\n",
    "First, we need to find the z-score corresponding to a 99% confidence level. Since the confidence interval is two-tailed, we need to find the z-score that leaves 0.5% in each tail. Using a standard normal distribution table or calculator, we find that the z-score is 2.576.\n",
    "\n",
    "Now, we can plug in the values:\n",
    "\n",
    "makefile\n",
    "\n",
    "CI = 4 ± 2.576*(1.5/√50)\n",
    "   = 4 ± 0.539\n",
    "   \n",
    "Therefore, the 99% confidence interval for the population mean number of ads watched by viewers during a TV program is (3.461, 4.539)."
   ]
  },
  {
   "cell_type": "code",
   "execution_count": null,
   "id": "aa5985df-f228-4363-955a-6d0b9dec91ab",
   "metadata": {},
   "outputs": [],
   "source": []
  }
 ],
 "metadata": {
  "kernelspec": {
   "display_name": "Python 3 (ipykernel)",
   "language": "python",
   "name": "python3"
  },
  "language_info": {
   "codemirror_mode": {
    "name": "ipython",
    "version": 3
   },
   "file_extension": ".py",
   "mimetype": "text/x-python",
   "name": "python",
   "nbconvert_exporter": "python",
   "pygments_lexer": "ipython3",
   "version": "3.10.8"
  }
 },
 "nbformat": 4,
 "nbformat_minor": 5
}
